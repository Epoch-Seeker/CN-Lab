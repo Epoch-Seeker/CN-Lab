{
 "cells": [
  {
   "cell_type": "code",
   "execution_count": null,
   "id": "c08daede",
   "metadata": {},
   "outputs": [
    {
     "name": "stdout",
     "output_type": "stream",
     "text": [
      "Cookie server running at http://127.0.0.1:9090\n"
     ]
    }
   ],
   "source": [
    "import socket\n",
    "\n",
    "HOST = \"127.0.0.1\"\n",
    "PORT = 9090\n",
    "\n",
    "def handle_client(conn):\n",
    "    request = conn.recv(1024).decode()\n",
    "    headers = request.split(\"\\r\\n\")\n",
    "    \n",
    "    # Check for Cookie header\n",
    "    cookie = None\n",
    "    for h in headers:\n",
    "        if h.startswith(\"Cookie:\"):\n",
    "            cookie = h.split(\":\", 1)[1].strip()\n",
    "            break\n",
    "\n",
    "    if cookie:\n",
    "        body = f\"<html><body><h1>Welcome back! Your cookie: {cookie}</h1></body></html>\"\n",
    "        response = \"HTTP/1.1 200 OK\\r\\nContent-Type: text/html\\r\\n\\r\\n\" + body\n",
    "    else:\n",
    "        body = \"<html><body><h1>Welcome, new user!</h1></body></html>\"\n",
    "        response = (\n",
    "            \"HTTP/1.1 200 OK\\r\\n\"\n",
    "            \"Content-Type: text/html\\r\\n\"\n",
    "            \"Set-Cookie: User=User123\\r\\n\\r\\n\" + body\n",
    "        )\n",
    "\n",
    "    conn.sendall(response.encode())\n",
    "    conn.close()\n",
    "\n",
    "with socket.socket(socket.AF_INET, socket.SOCK_STREAM) as s:\n",
    "    s.bind((HOST, PORT))\n",
    "    s.listen(5)\n",
    "    print(f\"Cookie server running at http://{HOST}:{PORT}\")\n",
    "    while True:\n",
    "        conn, _ = s.accept()\n",
    "        handle_client(conn)\n"
   ]
  }
 ],
 "metadata": {
  "kernelspec": {
   "display_name": "Python 3",
   "language": "python",
   "name": "python3"
  },
  "language_info": {
   "codemirror_mode": {
    "name": "ipython",
    "version": 3
   },
   "file_extension": ".py",
   "mimetype": "text/x-python",
   "name": "python",
   "nbconvert_exporter": "python",
   "pygments_lexer": "ipython3",
   "version": "3.10.6"
  }
 },
 "nbformat": 4,
 "nbformat_minor": 5
}
