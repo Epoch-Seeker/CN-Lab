{
 "cells": [
  {
   "cell_type": "code",
   "execution_count": null,
   "id": "911e9720",
   "metadata": {},
   "outputs": [
    {
     "name": "stdout",
     "output_type": "stream",
     "text": [
      "Serving on port 8081...\n"
     ]
    },
    {
     "name": "stderr",
     "output_type": "stream",
     "text": [
      "127.0.0.1 - - [12/Sep/2025 02:05:30] \"GET /index.html HTTP/1.1\" 200 -\n",
      "127.0.0.1 - - [12/Sep/2025 02:05:31] code 404, message File Not Found\n",
      "127.0.0.1 - - [12/Sep/2025 02:05:31] \"GET /favicon.ico HTTP/1.1\" 404 -\n",
      "127.0.0.1 - - [12/Sep/2025 02:05:43] \"GET /index.html HTTP/1.1\" 200 -\n",
      "127.0.0.1 - - [12/Sep/2025 02:06:07] \"GET /index.html HTTP/1.1\" 200 -\n",
      "127.0.0.1 - - [12/Sep/2025 02:06:39] \"GET /index.html HTTP/1.1\" 200 -\n"
     ]
    }
   ],
   "source": [
    "import http.server\n",
    "import socketserver\n",
    "import os\n",
    "import hashlib\n",
    "import time\n",
    "from email.utils import formatdate, parsedate_to_datetime\n",
    "\n",
    "PORT = 8081\n",
    "FILENAME = \"index.html\"\n",
    "\n",
    "class CachingHandler(http.server.SimpleHTTPRequestHandler):\n",
    "    def do_GET(self):\n",
    "        if self.path != f\"/{FILENAME}\":\n",
    "            self.send_error(404, \"File Not Found\")\n",
    "            return\n",
    "\n",
    "        # Read file content\n",
    "        with open(FILENAME, \"rb\") as f:\n",
    "            content = f.read()\n",
    "\n",
    "        # Generate ETag (MD5 of file content)\n",
    "        etag = hashlib.md5(content).hexdigest()\n",
    "\n",
    "        # Last-Modified time\n",
    "        last_mod_time = os.path.getmtime(FILENAME)\n",
    "        last_modified = formatdate(last_mod_time, usegmt=True)\n",
    "\n",
    "        # Check client headers\n",
    "        if_none_match = self.headers.get(\"If-None-Match\")\n",
    "        if_modified_since = self.headers.get(\"If-Modified-Since\")\n",
    "\n",
    "        # Validate caching\n",
    "        if if_none_match == etag or (\n",
    "            if_modified_since and\n",
    "            parsedate_to_datetime(if_modified_since).timestamp() >= last_mod_time\n",
    "        ):\n",
    "            self.send_response(304)\n",
    "            self.end_headers()\n",
    "            return\n",
    "\n",
    "        # Otherwise send fresh content\n",
    "        self.send_response(200)\n",
    "        self.send_header(\"Content-Type\", \"text/html\")\n",
    "        self.send_header(\"ETag\", etag)\n",
    "        self.send_header(\"Last-Modified\", last_modified)\n",
    "        self.end_headers()\n",
    "        self.wfile.write(content)\n",
    "\n",
    "with socketserver.TCPServer((\"\", PORT), CachingHandler) as httpd:\n",
    "    print(f\"Serving on port {PORT}...\")\n",
    "    httpd.serve_forever()\n"
   ]
  }
 ],
 "metadata": {
  "kernelspec": {
   "display_name": "Python 3",
   "language": "python",
   "name": "python3"
  },
  "language_info": {
   "codemirror_mode": {
    "name": "ipython",
    "version": 3
   },
   "file_extension": ".py",
   "mimetype": "text/x-python",
   "name": "python",
   "nbconvert_exporter": "python",
   "pygments_lexer": "ipython3",
   "version": "3.10.6"
  }
 },
 "nbformat": 4,
 "nbformat_minor": 5
}
